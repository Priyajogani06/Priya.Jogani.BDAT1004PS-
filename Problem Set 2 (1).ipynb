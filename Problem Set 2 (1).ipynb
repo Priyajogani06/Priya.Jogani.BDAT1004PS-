{
 "cells": [
  {
   "cell_type": "markdown",
   "id": "63b90923",
   "metadata": {},
   "source": [
    "# Question 1"
   ]
  },
  {
   "cell_type": "code",
   "execution_count": 1,
   "id": "77e3194b",
   "metadata": {},
   "outputs": [],
   "source": [
    "a = 0\n",
    "def b():\n",
    " global a\n",
    " a = c(a)\n",
    "def c(a):\n",
    " return a + 2"
   ]
  },
  {
   "cell_type": "code",
   "execution_count": 2,
   "id": "0608a10d",
   "metadata": {},
   "outputs": [
    {
     "data": {
      "text/plain": [
       "6"
      ]
     },
     "execution_count": 2,
     "metadata": {},
     "output_type": "execute_result"
    }
   ],
   "source": [
    "b()\n",
    "b()\n",
    "b()\n",
    "a"
   ]
  },
  {
   "cell_type": "markdown",
   "id": "a0dbbff6",
   "metadata": {},
   "source": [
    "#Explaination :-\n",
    "\n",
    "EveryTime we add 2 and get the following result.\n",
    "b() => a is 0 + 2 = 2 \n",
    "b() => a is 2 + 2 = 4\n",
    "b() => a is 4 + 2 = 6\n",
    "\n",
    "Finally, a is 6"
   ]
  },
  {
   "cell_type": "markdown",
   "id": "e244a0b7",
   "metadata": {},
   "source": [
    "# Question 2"
   ]
  },
  {
   "cell_type": "code",
   "execution_count": 3,
   "id": "771fc5e0",
   "metadata": {},
   "outputs": [],
   "source": [
    "import os\n",
    "\n",
    "#creates function 'filelength' as mentioned in question\n",
    "def fileLength(f):\n",
    "\n",
    "  try:\n",
    "#it counts total length of file    \n",
    "    length = os.path.getsize(f)\n",
    "\n",
    "    print (length)\n",
    "    \n",
    "#filenotfounderror exception  \n",
    "  except FileNotFoundError:\n",
    "#Error message\n",
    "    print(\"File \",str(f),\"is not found\")\n"
   ]
  },
  {
   "cell_type": "code",
   "execution_count": 4,
   "id": "deffcb8c",
   "metadata": {},
   "outputs": [
    {
     "name": "stdout",
     "output_type": "stream",
     "text": [
      "127\n"
     ]
    }
   ],
   "source": [
    "fileLength('Filelength.txt')\n",
    "\n"
   ]
  },
  {
   "cell_type": "code",
   "execution_count": 5,
   "id": "3046dc6d",
   "metadata": {},
   "outputs": [
    {
     "name": "stdout",
     "output_type": "stream",
     "text": [
      "File  idterm.py is not found\n"
     ]
    }
   ],
   "source": [
    "fileLength('idterm.py')"
   ]
  },
  {
   "cell_type": "markdown",
   "id": "aa959a0c",
   "metadata": {},
   "source": [
    "# Question 3"
   ]
  },
  {
   "cell_type": "code",
   "execution_count": 6,
   "id": "b482380a",
   "metadata": {},
   "outputs": [],
   "source": [
    "#created class as mentioned in the question which is main class\n",
    "\n",
    "class Marsupial:\n",
    "    \n",
    "#create Constructor for main class\n",
    "    def __init__(self):\n",
    "        self.list = []\n",
    "\n",
    "#create main function  \"put_in_pouch\" for main class\n",
    "    def put_in_pouch(self, item):\n",
    "        self.list.append(item)\n",
    "\n",
    "#create function for Return List\n",
    "    def pouch_contents(self):\n",
    "        return self.list\n",
    "\n",
    "#create Class kangaroo as subclass of Mursupial\n",
    "class Kangaroo(Marsupial):\n",
    "    \n",
    "#create Constructor for to take, as input, the coordinates a and b of the Kangaroo object\n",
    "    def __init__(self,a,b):\n",
    "        Marsupial.__init__(self)\n",
    "        self.a = a\n",
    "        self.b = b\n",
    "\n",
    "#support method \"Jump\" which takes number values da and db as input and moves the kangaroo by da units along the x-axis and by db units along the y-axis\n",
    "    def jump(self,da,db):\n",
    "        self.a += da\n",
    "        self.b += db\n",
    "\n",
    "#It overloads method \"Str\" which behaves accordng to user.\n",
    "    def __str__(self):\n",
    "        return 'I am a Kangaroo located at coordinates ({},{})'.format(self.a,self.b)\n",
    "\n",
    "\n"
   ]
  },
  {
   "cell_type": "code",
   "execution_count": 7,
   "id": "ac0394d3",
   "metadata": {},
   "outputs": [
    {
     "name": "stdout",
     "output_type": "stream",
     "text": [
      "I am a Kangaroo located at coordinates (0,0)\n"
     ]
    }
   ],
   "source": [
    "K = Kangaroo(0,0)\n",
    "print(K)"
   ]
  },
  {
   "cell_type": "code",
   "execution_count": 8,
   "id": "82c3fbff",
   "metadata": {},
   "outputs": [
    {
     "name": "stdout",
     "output_type": "stream",
     "text": [
      "['doll', 'firetruck', 'kitten']\n"
     ]
    }
   ],
   "source": [
    "K.put_in_pouch('doll')\n",
    "K.put_in_pouch('firetruck')\n",
    "K.put_in_pouch('kitten')\n",
    "print(K.pouch_contents())\n",
    " "
   ]
  },
  {
   "cell_type": "code",
   "execution_count": 9,
   "id": "24951fd3",
   "metadata": {},
   "outputs": [
    {
     "name": "stdout",
     "output_type": "stream",
     "text": [
      "I am a Kangaroo located at coordinates (3,0)\n"
     ]
    }
   ],
   "source": [
    "K.jump(1,0)\n",
    "K.jump(1,0)\n",
    "K.jump(1,0)\n",
    "print(K)"
   ]
  },
  {
   "cell_type": "markdown",
   "id": "46105adc",
   "metadata": {},
   "source": [
    "# Question 4\n"
   ]
  },
  {
   "cell_type": "code",
   "execution_count": 10,
   "id": "2e36a5b6",
   "metadata": {},
   "outputs": [],
   "source": [
    "#create 'collatz' funcion which takes a as input from user\n",
    "def collatz(a):\n",
    "\n",
    "#Here it print value of a\n",
    "    print(a)\n",
    "#Here I used if elif else and also it is recursive \n",
    "    if a==1:\n",
    "        return \n",
    "#for a is even    \n",
    "    elif a%2==0:\n",
    "        return collatz(a/2) \n",
    "    else:\n",
    "#for a is odd\n",
    "        return collatz(3*a+1) \n",
    "       "
   ]
  },
  {
   "cell_type": "code",
   "execution_count": 11,
   "id": "5c1e355e",
   "metadata": {},
   "outputs": [
    {
     "name": "stdout",
     "output_type": "stream",
     "text": [
      "1\n"
     ]
    }
   ],
   "source": [
    " collatz(1)\n",
    "    "
   ]
  },
  {
   "cell_type": "code",
   "execution_count": 12,
   "id": "693df44f",
   "metadata": {},
   "outputs": [
    {
     "name": "stdout",
     "output_type": "stream",
     "text": [
      "10\n",
      "5.0\n",
      "16.0\n",
      "8.0\n",
      "4.0\n",
      "2.0\n",
      "1.0\n"
     ]
    }
   ],
   "source": [
    " collatz(10)"
   ]
  },
  {
   "cell_type": "markdown",
   "id": "ab697e83",
   "metadata": {},
   "source": [
    "# Question 5\n"
   ]
  },
  {
   "cell_type": "code",
   "execution_count": 13,
   "id": "3450bdb4",
   "metadata": {},
   "outputs": [],
   "source": [
    "#create binary funcion\n",
    "def binary(number):\n",
    "    if(number > 0):\n",
    "        binary(number//2)\n",
    "        print(number%2, end='')"
   ]
  },
  {
   "cell_type": "code",
   "execution_count": 14,
   "id": "e0f4e5d3",
   "metadata": {},
   "outputs": [],
   "source": [
    "binary(0)"
   ]
  },
  {
   "cell_type": "code",
   "execution_count": 15,
   "id": "74b756f5",
   "metadata": {},
   "outputs": [
    {
     "name": "stdout",
     "output_type": "stream",
     "text": [
      "1"
     ]
    }
   ],
   "source": [
    "binary(1)"
   ]
  },
  {
   "cell_type": "code",
   "execution_count": 16,
   "id": "6eb9f825",
   "metadata": {},
   "outputs": [
    {
     "name": "stdout",
     "output_type": "stream",
     "text": [
      "11"
     ]
    }
   ],
   "source": [
    "binary(3)"
   ]
  },
  {
   "cell_type": "code",
   "execution_count": 17,
   "id": "d4a5c59d",
   "metadata": {},
   "outputs": [
    {
     "name": "stdout",
     "output_type": "stream",
     "text": [
      "1001"
     ]
    }
   ],
   "source": [
    "binary(9)"
   ]
  },
  {
   "cell_type": "markdown",
   "id": "f3086c62",
   "metadata": {},
   "source": [
    "# Question 6"
   ]
  },
  {
   "cell_type": "code",
   "execution_count": 18,
   "id": "d63e9def",
   "metadata": {},
   "outputs": [
    {
     "name": "stdout",
     "output_type": "stream",
     "text": [
      "W3C Mission\n",
      "\n",
      "\t\n",
      " Principles\n",
      " \n",
      " \n",
      "\n",
      "\n",
      "\n",
      " \n",
      "\n"
     ]
    }
   ],
   "source": [
    "import re\n",
    "from html.parser import HTMLParser\n",
    "infile = open('w3c.html') \n",
    "content = infile.read() \n",
    "infile.close()\n",
    "\n",
    "class HeadingParser(HTMLParser):\n",
    "    def handle_starttag(self, tag, attrs):\n",
    "        global getHeading\n",
    "        find = re.match(r'h(\\d)', tag, re.I) \n",
    "        if find: getHeading = int(find.group(1))\n",
    "            \n",
    "    def handle_endtag(self, tag):\n",
    "        find = re.match(r'h(\\d)', tag, re.I)\n",
    "        if find: getHeading = 0\n",
    "\n",
    "    def handle_data(self, data):\n",
    "        if getHeading > 0:\n",
    "            tab = getHeading - 1\n",
    "            out = \" \"*tab\n",
    "            print(out+data)\n",
    "            \n",
    "getHeading = 0\n",
    "hp = HeadingParser()\n",
    "hp.feed(content)"
   ]
  },
  {
   "cell_type": "markdown",
   "id": "ee680eea",
   "metadata": {},
   "source": [
    "# Question 7"
   ]
  },
  {
   "cell_type": "code",
   "execution_count": 19,
   "id": "c591d6a8",
   "metadata": {},
   "outputs": [
    {
     "name": "stdout",
     "output_type": "stream",
     "text": [
      "http://reed.cs.depaul.edu/lperkovic/csc242/test1.html\n"
     ]
    }
   ],
   "source": [
    "import requests\n",
    "\n",
    "from bs4 import BeautifulSoup   \n",
    "\n",
    "def webdir(url, depth, indent):\n",
    "    resp = requests.get(url)\n",
    "    print(url)\n",
    "    if(depth == indent):\n",
    "        return\n",
    "    soup = BeautifulSoup(resp.text, 'html.parser')  \n",
    "    \n",
    "    \n",
    "    for link in soup.find_all('a'):\n",
    "        new_link = link.get('href')\n",
    "        if(new_link.startswith('https')):\n",
    "            webdir(new_link, depth, indent+1)\n",
    "\n",
    "webdir('http://reed.cs.depaul.edu/lperkovic/csc242/test1.html', 2, 0)"
   ]
  },
  {
   "cell_type": "markdown",
   "id": "67504481",
   "metadata": {},
   "source": [
    "# Question 8\n",
    "\n",
    "Here, I give dataset table name as \"table\""
   ]
  },
  {
   "cell_type": "code",
   "execution_count": 20,
   "id": "b7eb6e1c",
   "metadata": {},
   "outputs": [],
   "source": [
    "%load_ext sql\n",
    "%sql sqlite:///climate.db"
   ]
  },
  {
   "cell_type": "code",
   "execution_count": 21,
   "id": "abc5f99c",
   "metadata": {},
   "outputs": [
    {
     "name": "stdout",
     "output_type": "stream",
     "text": [
      " * sqlite:///climate.db\n",
      "Done.\n"
     ]
    },
    {
     "data": {
      "text/plain": [
       "[]"
      ]
     },
     "execution_count": 21,
     "metadata": {},
     "output_type": "execute_result"
    }
   ],
   "source": [
    "%%sql\n",
    " create table weather(City varchar(20), Country varchar(20), Season varchar(20), Temperature varchar(20), Rainfall varchar(20))"
   ]
  },
  {
   "cell_type": "code",
   "execution_count": 22,
   "id": "fa06bc62",
   "metadata": {},
   "outputs": [
    {
     "name": "stdout",
     "output_type": "stream",
     "text": [
      " * sqlite:///climate.db\n",
      "1 rows affected.\n",
      "1 rows affected.\n",
      "1 rows affected.\n",
      "1 rows affected.\n",
      "1 rows affected.\n",
      "1 rows affected.\n",
      "1 rows affected.\n",
      "1 rows affected.\n",
      "1 rows affected.\n",
      "1 rows affected.\n",
      "1 rows affected.\n",
      "1 rows affected.\n"
     ]
    },
    {
     "data": {
      "text/plain": [
       "[]"
      ]
     },
     "execution_count": 22,
     "metadata": {},
     "output_type": "execute_result"
    }
   ],
   "source": [
    "%%sql\n",
    "insert into weather values('Mumbai','India', 'Winter','24.8', '5.9');\n",
    "insert into weather values('Mumbai','India', 'Spring','28.4', '16.2');\n",
    "insert into weather values('Mumbai','India', 'Summer','27.9', '1549.4');\n",
    "insert into weather values('Mumbai','India', 'Fall','27.6', '346.0');\n",
    "insert into weather values('London','United Kingdom', 'Winter','4.2', '207.7');\n",
    "insert into weather values('London','United Kingdom', 'Spring','8.3', '169.6');\n",
    "insert into weather values('London','United Kingdom', 'Summer','15.7', '157.0');\n",
    "insert into weather values('London','United Kingdom', 'Fall','10.4', '218.5');\n",
    "insert into weather values('Cairo','Egypt', 'Winter','13.6', '16.5');\n",
    "insert into weather values('Cairo','Egypt', 'Spring','20.7', '6.5');\n",
    "insert into weather values('Cairo','Egypt', 'Summer','27.7', '0.1');\n",
    "insert into weather values('Cairo','Egypt', 'Fall','22.2', '4.5');"
   ]
  },
  {
   "cell_type": "code",
   "execution_count": 23,
   "id": "1a592014",
   "metadata": {},
   "outputs": [
    {
     "name": "stdout",
     "output_type": "stream",
     "text": [
      " * sqlite:///climate.db\n",
      "Done.\n"
     ]
    },
    {
     "data": {
      "text/html": [
       "<table>\n",
       "    <tr>\n",
       "        <th>City</th>\n",
       "        <th>Country</th>\n",
       "        <th>Season</th>\n",
       "        <th>Temperature</th>\n",
       "        <th>Rainfall</th>\n",
       "    </tr>\n",
       "    <tr>\n",
       "        <td>Mumbai</td>\n",
       "        <td>India</td>\n",
       "        <td>Winter</td>\n",
       "        <td>24.8</td>\n",
       "        <td>5.9</td>\n",
       "    </tr>\n",
       "    <tr>\n",
       "        <td>Mumbai</td>\n",
       "        <td>India</td>\n",
       "        <td>Spring</td>\n",
       "        <td>28.4</td>\n",
       "        <td>16.2</td>\n",
       "    </tr>\n",
       "    <tr>\n",
       "        <td>Mumbai</td>\n",
       "        <td>India</td>\n",
       "        <td>Summer</td>\n",
       "        <td>27.9</td>\n",
       "        <td>1549.4</td>\n",
       "    </tr>\n",
       "    <tr>\n",
       "        <td>Mumbai</td>\n",
       "        <td>India</td>\n",
       "        <td>Fall</td>\n",
       "        <td>27.6</td>\n",
       "        <td>346.0</td>\n",
       "    </tr>\n",
       "    <tr>\n",
       "        <td>London</td>\n",
       "        <td>United Kingdom</td>\n",
       "        <td>Winter</td>\n",
       "        <td>4.2</td>\n",
       "        <td>207.7</td>\n",
       "    </tr>\n",
       "    <tr>\n",
       "        <td>London</td>\n",
       "        <td>United Kingdom</td>\n",
       "        <td>Spring</td>\n",
       "        <td>8.3</td>\n",
       "        <td>169.6</td>\n",
       "    </tr>\n",
       "    <tr>\n",
       "        <td>London</td>\n",
       "        <td>United Kingdom</td>\n",
       "        <td>Summer</td>\n",
       "        <td>15.7</td>\n",
       "        <td>157.0</td>\n",
       "    </tr>\n",
       "    <tr>\n",
       "        <td>London</td>\n",
       "        <td>United Kingdom</td>\n",
       "        <td>Fall</td>\n",
       "        <td>10.4</td>\n",
       "        <td>218.5</td>\n",
       "    </tr>\n",
       "    <tr>\n",
       "        <td>Cairo</td>\n",
       "        <td>Egypt</td>\n",
       "        <td>Winter</td>\n",
       "        <td>13.6</td>\n",
       "        <td>16.5</td>\n",
       "    </tr>\n",
       "    <tr>\n",
       "        <td>Cairo</td>\n",
       "        <td>Egypt</td>\n",
       "        <td>Spring</td>\n",
       "        <td>20.7</td>\n",
       "        <td>6.5</td>\n",
       "    </tr>\n",
       "    <tr>\n",
       "        <td>Cairo</td>\n",
       "        <td>Egypt</td>\n",
       "        <td>Summer</td>\n",
       "        <td>27.7</td>\n",
       "        <td>0.1</td>\n",
       "    </tr>\n",
       "    <tr>\n",
       "        <td>Cairo</td>\n",
       "        <td>Egypt</td>\n",
       "        <td>Fall</td>\n",
       "        <td>22.2</td>\n",
       "        <td>4.5</td>\n",
       "    </tr>\n",
       "</table>"
      ],
      "text/plain": [
       "[('Mumbai', 'India', 'Winter', '24.8', '5.9'),\n",
       " ('Mumbai', 'India', 'Spring', '28.4', '16.2'),\n",
       " ('Mumbai', 'India', 'Summer', '27.9', '1549.4'),\n",
       " ('Mumbai', 'India', 'Fall', '27.6', '346.0'),\n",
       " ('London', 'United Kingdom', 'Winter', '4.2', '207.7'),\n",
       " ('London', 'United Kingdom', 'Spring', '8.3', '169.6'),\n",
       " ('London', 'United Kingdom', 'Summer', '15.7', '157.0'),\n",
       " ('London', 'United Kingdom', 'Fall', '10.4', '218.5'),\n",
       " ('Cairo', 'Egypt', 'Winter', '13.6', '16.5'),\n",
       " ('Cairo', 'Egypt', 'Spring', '20.7', '6.5'),\n",
       " ('Cairo', 'Egypt', 'Summer', '27.7', '0.1'),\n",
       " ('Cairo', 'Egypt', 'Fall', '22.2', '4.5')]"
      ]
     },
     "execution_count": 23,
     "metadata": {},
     "output_type": "execute_result"
    }
   ],
   "source": [
    "%%sql\n",
    "select * from weather"
   ]
  },
  {
   "cell_type": "markdown",
   "id": "6f24e7ce",
   "metadata": {},
   "source": [
    "a"
   ]
  },
  {
   "cell_type": "code",
   "execution_count": 24,
   "id": "77f8b877",
   "metadata": {},
   "outputs": [
    {
     "name": "stdout",
     "output_type": "stream",
     "text": [
      " * sqlite:///climate.db\n",
      "Done.\n"
     ]
    },
    {
     "data": {
      "text/html": [
       "<table>\n",
       "    <tr>\n",
       "        <th>Temperature</th>\n",
       "    </tr>\n",
       "    <tr>\n",
       "        <td>24.8</td>\n",
       "    </tr>\n",
       "    <tr>\n",
       "        <td>28.4</td>\n",
       "    </tr>\n",
       "    <tr>\n",
       "        <td>27.9</td>\n",
       "    </tr>\n",
       "    <tr>\n",
       "        <td>27.6</td>\n",
       "    </tr>\n",
       "    <tr>\n",
       "        <td>4.2</td>\n",
       "    </tr>\n",
       "    <tr>\n",
       "        <td>8.3</td>\n",
       "    </tr>\n",
       "    <tr>\n",
       "        <td>15.7</td>\n",
       "    </tr>\n",
       "    <tr>\n",
       "        <td>10.4</td>\n",
       "    </tr>\n",
       "    <tr>\n",
       "        <td>13.6</td>\n",
       "    </tr>\n",
       "    <tr>\n",
       "        <td>20.7</td>\n",
       "    </tr>\n",
       "    <tr>\n",
       "        <td>27.7</td>\n",
       "    </tr>\n",
       "    <tr>\n",
       "        <td>22.2</td>\n",
       "    </tr>\n",
       "</table>"
      ],
      "text/plain": [
       "[('24.8',),\n",
       " ('28.4',),\n",
       " ('27.9',),\n",
       " ('27.6',),\n",
       " ('4.2',),\n",
       " ('8.3',),\n",
       " ('15.7',),\n",
       " ('10.4',),\n",
       " ('13.6',),\n",
       " ('20.7',),\n",
       " ('27.7',),\n",
       " ('22.2',)]"
      ]
     },
     "execution_count": 24,
     "metadata": {},
     "output_type": "execute_result"
    }
   ],
   "source": [
    "%%sql\n",
    "select Temperature from weather"
   ]
  },
  {
   "cell_type": "code",
   "execution_count": 25,
   "id": "fac76266",
   "metadata": {},
   "outputs": [
    {
     "name": "stdout",
     "output_type": "stream",
     "text": [
      " * sqlite:///climate.db\n",
      "Done.\n"
     ]
    },
    {
     "data": {
      "text/html": [
       "<table>\n",
       "    <tr>\n",
       "        <th>City</th>\n",
       "    </tr>\n",
       "    <tr>\n",
       "        <td>Mumbai</td>\n",
       "    </tr>\n",
       "    <tr>\n",
       "        <td>London</td>\n",
       "    </tr>\n",
       "    <tr>\n",
       "        <td>Cairo</td>\n",
       "    </tr>\n",
       "</table>"
      ],
      "text/plain": [
       "[('Mumbai',), ('London',), ('Cairo',)]"
      ]
     },
     "execution_count": 25,
     "metadata": {},
     "output_type": "execute_result"
    }
   ],
   "source": [
    "%%sql\n",
    "select DISTINCT City from weather"
   ]
  },
  {
   "cell_type": "markdown",
   "id": "d3b08768",
   "metadata": {},
   "source": [
    "b"
   ]
  },
  {
   "cell_type": "markdown",
   "id": "c62871fb",
   "metadata": {},
   "source": [
    "c"
   ]
  },
  {
   "cell_type": "code",
   "execution_count": 26,
   "id": "7b934b55",
   "metadata": {},
   "outputs": [
    {
     "name": "stdout",
     "output_type": "stream",
     "text": [
      " * sqlite:///climate.db\n",
      "Done.\n"
     ]
    },
    {
     "data": {
      "text/html": [
       "<table>\n",
       "    <tr>\n",
       "        <th>City</th>\n",
       "        <th>Country</th>\n",
       "        <th>Season</th>\n",
       "        <th>Temperature</th>\n",
       "        <th>Rainfall</th>\n",
       "    </tr>\n",
       "    <tr>\n",
       "        <td>Mumbai</td>\n",
       "        <td>India</td>\n",
       "        <td>Winter</td>\n",
       "        <td>24.8</td>\n",
       "        <td>5.9</td>\n",
       "    </tr>\n",
       "    <tr>\n",
       "        <td>Mumbai</td>\n",
       "        <td>India</td>\n",
       "        <td>Spring</td>\n",
       "        <td>28.4</td>\n",
       "        <td>16.2</td>\n",
       "    </tr>\n",
       "    <tr>\n",
       "        <td>Mumbai</td>\n",
       "        <td>India</td>\n",
       "        <td>Summer</td>\n",
       "        <td>27.9</td>\n",
       "        <td>1549.4</td>\n",
       "    </tr>\n",
       "    <tr>\n",
       "        <td>Mumbai</td>\n",
       "        <td>India</td>\n",
       "        <td>Fall</td>\n",
       "        <td>27.6</td>\n",
       "        <td>346.0</td>\n",
       "    </tr>\n",
       "</table>"
      ],
      "text/plain": [
       "[('Mumbai', 'India', 'Winter', '24.8', '5.9'),\n",
       " ('Mumbai', 'India', 'Spring', '28.4', '16.2'),\n",
       " ('Mumbai', 'India', 'Summer', '27.9', '1549.4'),\n",
       " ('Mumbai', 'India', 'Fall', '27.6', '346.0')]"
      ]
     },
     "execution_count": 26,
     "metadata": {},
     "output_type": "execute_result"
    }
   ],
   "source": [
    "%%sql\n",
    "select * from weather where Country='India'"
   ]
  },
  {
   "cell_type": "markdown",
   "id": "065287ff",
   "metadata": {},
   "source": [
    "d"
   ]
  },
  {
   "cell_type": "code",
   "execution_count": 27,
   "id": "24639917",
   "metadata": {},
   "outputs": [
    {
     "name": "stdout",
     "output_type": "stream",
     "text": [
      " * sqlite:///climate.db\n",
      "Done.\n"
     ]
    },
    {
     "data": {
      "text/html": [
       "<table>\n",
       "    <tr>\n",
       "        <th>City</th>\n",
       "        <th>Country</th>\n",
       "        <th>Season</th>\n",
       "        <th>Temperature</th>\n",
       "        <th>Rainfall</th>\n",
       "    </tr>\n",
       "    <tr>\n",
       "        <td>Mumbai</td>\n",
       "        <td>India</td>\n",
       "        <td>Fall</td>\n",
       "        <td>27.6</td>\n",
       "        <td>346.0</td>\n",
       "    </tr>\n",
       "    <tr>\n",
       "        <td>London</td>\n",
       "        <td>United Kingdom</td>\n",
       "        <td>Fall</td>\n",
       "        <td>10.4</td>\n",
       "        <td>218.5</td>\n",
       "    </tr>\n",
       "    <tr>\n",
       "        <td>Cairo</td>\n",
       "        <td>Egypt</td>\n",
       "        <td>Fall</td>\n",
       "        <td>22.2</td>\n",
       "        <td>4.5</td>\n",
       "    </tr>\n",
       "</table>"
      ],
      "text/plain": [
       "[('Mumbai', 'India', 'Fall', '27.6', '346.0'),\n",
       " ('London', 'United Kingdom', 'Fall', '10.4', '218.5'),\n",
       " ('Cairo', 'Egypt', 'Fall', '22.2', '4.5')]"
      ]
     },
     "execution_count": 27,
     "metadata": {},
     "output_type": "execute_result"
    }
   ],
   "source": [
    "%%sql\n",
    "select * from weather where Season='Fall'"
   ]
  },
  {
   "cell_type": "markdown",
   "id": "58ba1321",
   "metadata": {},
   "source": [
    "e"
   ]
  },
  {
   "cell_type": "code",
   "execution_count": 28,
   "id": "262a235e",
   "metadata": {},
   "outputs": [
    {
     "name": "stdout",
     "output_type": "stream",
     "text": [
      " * sqlite:///climate.db\n",
      "Done.\n"
     ]
    },
    {
     "data": {
      "text/html": [
       "<table>\n",
       "    <tr>\n",
       "        <th>City</th>\n",
       "        <th>Country</th>\n",
       "        <th>Season</th>\n",
       "        <th>AVG(Rainfall)</th>\n",
       "    </tr>\n",
       "    <tr>\n",
       "        <td>London</td>\n",
       "        <td>United Kingdom</td>\n",
       "        <td>Winter</td>\n",
       "        <td>207.7</td>\n",
       "    </tr>\n",
       "    <tr>\n",
       "        <td>London</td>\n",
       "        <td>United Kingdom</td>\n",
       "        <td>Fall</td>\n",
       "        <td>218.5</td>\n",
       "    </tr>\n",
       "    <tr>\n",
       "        <td>Mumbai</td>\n",
       "        <td>India</td>\n",
       "        <td>Fall</td>\n",
       "        <td>346.0</td>\n",
       "    </tr>\n",
       "</table>"
      ],
      "text/plain": [
       "[('London', 'United Kingdom', 'Winter', 207.7),\n",
       " ('London', 'United Kingdom', 'Fall', 218.5),\n",
       " ('Mumbai', 'India', 'Fall', 346.0)]"
      ]
     },
     "execution_count": 28,
     "metadata": {},
     "output_type": "execute_result"
    }
   ],
   "source": [
    "%%sql\n",
    "SELECT  City, Country, Season, AVG(Rainfall) FROM weather \n",
    "GROUP BY Rainfall\n",
    "Having AVG(Rainfall) BETWEEN 200 AND 400;"
   ]
  },
  {
   "cell_type": "markdown",
   "id": "8fdc6b10",
   "metadata": {},
   "source": [
    "f"
   ]
  },
  {
   "cell_type": "code",
   "execution_count": 29,
   "id": "2a839e05",
   "metadata": {},
   "outputs": [
    {
     "name": "stdout",
     "output_type": "stream",
     "text": [
      " * sqlite:///climate.db\n",
      "Done.\n"
     ]
    },
    {
     "data": {
      "text/html": [
       "<table>\n",
       "    <tr>\n",
       "        <th>City</th>\n",
       "        <th>Country</th>\n",
       "        <th>AVG(Temperature)</th>\n",
       "    </tr>\n",
       "    <tr>\n",
       "        <td>Cairo</td>\n",
       "        <td>Egypt</td>\n",
       "        <td>22.2</td>\n",
       "    </tr>\n",
       "    <tr>\n",
       "        <td>Mumbai</td>\n",
       "        <td>India</td>\n",
       "        <td>27.6</td>\n",
       "    </tr>\n",
       "</table>"
      ],
      "text/plain": [
       "[('Cairo', 'Egypt', 22.2), ('Mumbai', 'India', 27.6)]"
      ]
     },
     "execution_count": 29,
     "metadata": {},
     "output_type": "execute_result"
    }
   ],
   "source": [
    "%%sql\n",
    "select City, Country, AVG(Temperature) FROM weather\n",
    "WHERE Season = 'Fall'  \n",
    "group by Temperature\n",
    "HAVING AVG(Temperature) > 20\n",
    "ORDER BY AVG(Temperature) ASC;"
   ]
  },
  {
   "cell_type": "markdown",
   "id": "77917430",
   "metadata": {},
   "source": [
    "g"
   ]
  },
  {
   "cell_type": "code",
   "execution_count": 30,
   "id": "bdc197b4",
   "metadata": {},
   "outputs": [
    {
     "name": "stdout",
     "output_type": "stream",
     "text": [
      " * sqlite:///climate.db\n",
      "Done.\n"
     ]
    },
    {
     "data": {
      "text/html": [
       "<table>\n",
       "    <tr>\n",
       "        <th>City</th>\n",
       "        <th>SUM(Rainfall)</th>\n",
       "    </tr>\n",
       "    <tr>\n",
       "        <td>Cairo</td>\n",
       "        <td>27.6</td>\n",
       "    </tr>\n",
       "</table>"
      ],
      "text/plain": [
       "[('Cairo', 27.6)]"
      ]
     },
     "execution_count": 30,
     "metadata": {},
     "output_type": "execute_result"
    }
   ],
   "source": [
    "%%sql\n",
    "select City, SUM(Rainfall) FROM weather where City='Cairo'"
   ]
  },
  {
   "cell_type": "markdown",
   "id": "b926ff4e",
   "metadata": {},
   "source": [
    "h"
   ]
  },
  {
   "cell_type": "code",
   "execution_count": 31,
   "id": "c5a8dfc7",
   "metadata": {},
   "outputs": [
    {
     "name": "stdout",
     "output_type": "stream",
     "text": [
      " * sqlite:///climate.db\n",
      "Done.\n"
     ]
    },
    {
     "data": {
      "text/html": [
       "<table>\n",
       "    <tr>\n",
       "        <th>Season</th>\n",
       "        <th>SUM(Rainfall)</th>\n",
       "    </tr>\n",
       "    <tr>\n",
       "        <td>Fall</td>\n",
       "        <td>569.0</td>\n",
       "    </tr>\n",
       "    <tr>\n",
       "        <td>Spring</td>\n",
       "        <td>192.29999999999998</td>\n",
       "    </tr>\n",
       "    <tr>\n",
       "        <td>Summer</td>\n",
       "        <td>1706.5</td>\n",
       "    </tr>\n",
       "    <tr>\n",
       "        <td>Winter</td>\n",
       "        <td>230.1</td>\n",
       "    </tr>\n",
       "</table>"
      ],
      "text/plain": [
       "[('Fall', 569.0),\n",
       " ('Spring', 192.29999999999998),\n",
       " ('Summer', 1706.5),\n",
       " ('Winter', 230.1)]"
      ]
     },
     "execution_count": 31,
     "metadata": {},
     "output_type": "execute_result"
    }
   ],
   "source": [
    "%%sql\n",
    "select Season, SUM(Rainfall) FROM weather\n",
    "group by Season"
   ]
  },
  {
   "cell_type": "code",
   "execution_count": 32,
   "id": "8e1a1e90",
   "metadata": {},
   "outputs": [
    {
     "name": "stdout",
     "output_type": "stream",
     "text": [
      " * sqlite:///climate.db\n",
      "Done.\n"
     ]
    },
    {
     "data": {
      "text/plain": [
       "[]"
      ]
     },
     "execution_count": 32,
     "metadata": {},
     "output_type": "execute_result"
    }
   ],
   "source": [
    "%%sql\n",
    "drop table weather"
   ]
  },
  {
   "cell_type": "markdown",
   "id": "6e7663d9",
   "metadata": {},
   "source": [
    "# Question 9"
   ]
  },
  {
   "cell_type": "code",
   "execution_count": 33,
   "id": "dbc8066d",
   "metadata": {},
   "outputs": [],
   "source": [
    "#List which is given is question\n",
    "list = ['The', 'quick', 'brown', 'fox', 'jumps', 'over', 'the', 'lazy', 'dog']"
   ]
  },
  {
   "cell_type": "code",
   "execution_count": 34,
   "id": "820a9264",
   "metadata": {},
   "outputs": [
    {
     "name": "stdout",
     "output_type": "stream",
     "text": [
      "['THE', 'QUICK', 'BROWN', 'FOX', 'JUMPS', 'OVER', 'THE', 'LAZY', 'DOG']\n"
     ]
    }
   ],
   "source": [
    "#List comprehension expressions \n",
    "print([a.upper() for a in list])"
   ]
  },
  {
   "cell_type": "code",
   "execution_count": 35,
   "id": "888c57a0",
   "metadata": {},
   "outputs": [
    {
     "name": "stdout",
     "output_type": "stream",
     "text": [
      "['the', 'quick', 'brown', 'fox', 'jumps', 'over', 'the', 'lazy', 'dog']\n"
     ]
    }
   ],
   "source": [
    "print([a.lower() for a in list])"
   ]
  },
  {
   "cell_type": "code",
   "execution_count": 36,
   "id": "047cbf7f",
   "metadata": {},
   "outputs": [
    {
     "name": "stdout",
     "output_type": "stream",
     "text": [
      "[3, 5, 5, 3, 5, 4, 3, 4, 3]\n"
     ]
    }
   ],
   "source": [
    "print([len(a) for a in list])"
   ]
  },
  {
   "cell_type": "code",
   "execution_count": 37,
   "id": "b76f13a2",
   "metadata": {},
   "outputs": [
    {
     "name": "stdout",
     "output_type": "stream",
     "text": [
      "[['THE', 'the', 3], ['QUICK', 'quick', 5], ['BROWN', 'brown', 5], ['FOX', 'fox', 3], ['JUMPS', 'jumps', 5], ['OVER', 'over', 4], ['THE', 'the', 3], ['LAZY', 'lazy', 4], ['DOG', 'dog', 3]]\n"
     ]
    }
   ],
   "source": [
    "print([[a.upper(),a.lower(),len(a)] for a in list] )"
   ]
  },
  {
   "cell_type": "code",
   "execution_count": 38,
   "id": "f51faf73",
   "metadata": {},
   "outputs": [
    {
     "name": "stdout",
     "output_type": "stream",
     "text": [
      "['quick', 'brown', 'jumps', 'over', 'lazy']\n"
     ]
    }
   ],
   "source": [
    "print([a.lower() for a in list if len(a)>=4])"
   ]
  }
 ],
 "metadata": {
  "kernelspec": {
   "display_name": "Python 3 (ipykernel)",
   "language": "python",
   "name": "python3"
  },
  "language_info": {
   "codemirror_mode": {
    "name": "ipython",
    "version": 3
   },
   "file_extension": ".py",
   "mimetype": "text/x-python",
   "name": "python",
   "nbconvert_exporter": "python",
   "pygments_lexer": "ipython3",
   "version": "3.10.7"
  }
 },
 "nbformat": 4,
 "nbformat_minor": 5
}
